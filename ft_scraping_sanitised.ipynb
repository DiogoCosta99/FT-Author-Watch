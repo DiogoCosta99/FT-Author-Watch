{
 "cells": [
  {
   "cell_type": "markdown",
   "metadata": {},
   "source": [
    "## Script with a single author\n"
   ]
  },
  {
   "cell_type": "code",
   "execution_count": 65,
   "metadata": {},
   "outputs": [
    {
     "data": {
      "text/plain": [
       "'https://www.ft.com/martin-wolf'"
      ]
     },
     "execution_count": 65,
     "metadata": {},
     "output_type": "execute_result"
    }
   ],
   "source": [
    "url = 'https://www.ft.com/{}'.format(author[0])\n",
    "url"
   ]
  },
  {
   "cell_type": "code",
   "execution_count": 66,
   "metadata": {},
   "outputs": [
    {
     "name": "stdout",
     "output_type": "stream",
     "text": [
      "Latest article: Trump’s tariffs will damage the world\n",
      "Link: /content/d96d4a44-2b75-4222-b77a-afe72c1b9174\n",
      "New article added to the list: Trump’s tariffs will damage the world\n"
     ]
    }
   ],
   "source": [
    "import requests\n",
    "from bs4 import BeautifulSoup\n",
    "author = ['martin-wolf']\n",
    "\n",
    "headers = {\n",
    "    'User-Agent': 'Mozilla/5.0'\n",
    "}\n",
    "url = 'https://www.ft.com/{}'.format(author[0])\n",
    "response = requests.get(url, headers=headers)\n",
    "\n",
    "soup = BeautifulSoup(response.content, 'html.parser')\n",
    "\n",
    "article_list = []\n",
    "\n",
    "# You may need to inspect the structure of the page to get the right class or tag\n",
    "# This is an example placeholder — inspect the HTML to update this\n",
    "latest_article = soup.find('a', class_='js-teaser-heading-link')  # Placeholder class\n",
    "\n",
    "if latest_article:\n",
    "    title = latest_article.get_text(strip=True)\n",
    "    link = latest_article['href']\n",
    "\n",
    "    # Here you'd compare with your saved article\n",
    "    print(\"Latest article:\", title)\n",
    "    print(\"Link:\", link)\n",
    "\n",
    "    # Compare with previously stored title/link\n",
    "    # If new, store it and notify\n",
    "if title in article_list:\n",
    "    print(\"No new article.\")\n",
    "else:\n",
    "    article_list.clear()\n",
    "    article_list.append(title)\n",
    "    print(\"New article added to the list: {}\".format(article_list[0]))"
   ]
  },
  {
   "cell_type": "code",
   "execution_count": 58,
   "metadata": {},
   "outputs": [
    {
     "data": {
      "text/plain": [
       "['Trump chaos is alienating Republicans']"
      ]
     },
     "execution_count": 58,
     "metadata": {},
     "output_type": "execute_result"
    }
   ],
   "source": [
    "article_list"
   ]
  },
  {
   "cell_type": "markdown",
   "metadata": {},
   "source": [
    "## Script with multiple authors"
   ]
  },
  {
   "cell_type": "code",
   "execution_count": 84,
   "metadata": {},
   "outputs": [],
   "source": [
    "authors = {'martin-wolf':\"Trump’s tariffs will damage the world\", \n",
    "     'stuart-kirk': \"Sir Keir will love me, I’m doubling down on UK equities\",\n",
    "     'toby-nangle': \"Bond investors bet that tariffs will inflict deep damage\",\n",
    "     'john-burn-murdoch': \"Trump chaos is alienating Republicans\",\n",
    "     'katie-martin': \"Markets might not have hit the bottom yet\"}"
   ]
  },
  {
   "cell_type": "code",
   "execution_count": 73,
   "metadata": {},
   "outputs": [
    {
     "data": {
      "text/plain": [
       "'Trump’s tariffs will damage the world'"
      ]
     },
     "execution_count": 73,
     "metadata": {},
     "output_type": "execute_result"
    }
   ],
   "source": [
    "a['martin-wolf']"
   ]
  },
  {
   "cell_type": "code",
   "execution_count": 75,
   "metadata": {},
   "outputs": [
    {
     "name": "stdout",
     "output_type": "stream",
     "text": [
      "martin-wolf: Trump’s tariffs will damage the world\n",
      "stuart-kirk: Sir Keir will love me, I’m doubling down on UK equities\n",
      "toby-nangle: Bond investors bet that tariffs will inflict deep damage\n",
      "john-burn-murdoch: Trump chaos is alienating Republicans\n",
      "katie-martin: Markets might not have hit the bottom yet\n"
     ]
    }
   ],
   "source": [
    "for i in a.keys():\n",
    "    print(f'{i}: {a[i]}')"
   ]
  },
  {
   "cell_type": "code",
   "execution_count": null,
   "metadata": {},
   "outputs": [
    {
     "name": "stdout",
     "output_type": "stream",
     "text": [
      "Latest article: Trump’s tariffs will damage the world\n",
      "Link: /content/d96d4a44-2b75-4222-b77a-afe72c1b9174\n",
      "No new article.\n",
      "Latest article: Sir Keir will love me, I’m doubling down on UK equities\n",
      "Link: /content/8da9067a-36c3-4648-9f5f-d81214794c87\n",
      "No new article.\n",
      "Latest article: Bond investors bet that tariffs will inflict deep damage\n",
      "Link: /content/1ea8aa5c-0a8b-4952-8e3b-d56d3765d8ed\n",
      "No new article.\n",
      "Latest article: Trump chaos is alienating Republicans\n",
      "Link: /content/26d15d7e-dd36-4ca1-b974-da8a57bce290\n",
      "No new article.\n",
      "Latest article: Markets might not have hit the bottom yet\n",
      "Link: /content/a1f32514-b8cd-4c97-87c8-e5daa133c765\n",
      "No new article.\n"
     ]
    }
   ],
   "source": [
    "import requests\n",
    "from bs4 import BeautifulSoup\n",
    "import smtplib\n",
    "from email.mime.multipart import MIMEMultipart\n",
    "from email.mime.text import MIMEText\n",
    "\n",
    "\n",
    "# Set headers to mimic a real browser\n",
    "headers = {\n",
    "    'User-Agent': 'Mozilla/5.0'\n",
    "}\n",
    "\n",
    "#authors = ['martin-wolf','stuart-kirk','toby-nangle','john-burn-murdoch','katie-martin']\n",
    "authors = {'martin-wolf':\"Trump’s tariffs will damage the world\", \n",
    "     'stuart-kirk': \"Sir Keir will love me, I’m doubling down on UK equities\",\n",
    "     'toby-nangle': \"Bond investors bet that tariffs will inflict deep damage\",\n",
    "     'john-burn-murdoch': \"Trump chaos is alienating Republicans\",\n",
    "     'katie-martin': \"Markets might not have hit the bottom yet\"}\n",
    "\n",
    "# Gmail credentials (Use an App Password instead of your Google account password)\n",
    "gmail_user = 'test@gmail.com'\n",
    "gmail_password = 'test'  # Use an App Password for added security\n",
    "\n",
    "# Function to send an email\n",
    "def send_email(subject, body):\n",
    "    msg = MIMEMultipart()\n",
    "    msg['From'] = gmail_user\n",
    "    msg['To'] = 'test@gmail.com'  # Replace with your recipient email\n",
    "    msg['Subject'] = subject\n",
    "\n",
    "    msg.attach(MIMEText(body, 'plain'))\n",
    "\n",
    "    try:\n",
    "        # Set up the server and send email\n",
    "        server = smtplib.SMTP('smtp.gmail.com', 587)\n",
    "        server.starttls()  # Secure the connection\n",
    "        server.login(gmail_user, gmail_password)\n",
    "        text = msg.as_string()\n",
    "        server.sendmail(gmail_user, 'test@gmail.com', text)\n",
    "        server.quit()\n",
    "        print(\"Email sent successfully\")\n",
    "    except Exception as e:\n",
    "        print(f\"Failed to send email: {e}\")\n",
    "\n",
    "\n",
    "\n",
    "\n",
    "for author in authors.keys():\n",
    "    url =  'https://www.ft.com/{}'.format(author)\n",
    "    response = requests.get(url, headers=headers)\n",
    "\n",
    "    soup = BeautifulSoup(response.content, 'html.parser')\n",
    "\n",
    "    article_list = []\n",
    "\n",
    "    # You may need to inspect the structure of the page to get the right class or tag\n",
    "    # This is an example placeholder — inspect the HTML to update this\n",
    "    latest_article = soup.find('a', class_='js-teaser-heading-link')  # Placeholder class\n",
    "\n",
    "    if latest_article:\n",
    "        title = latest_article.get_text(strip=True)\n",
    "        link = latest_article['href']\n",
    "\n",
    "        # Here you'd compare with your saved article\n",
    "        print(\"Latest article:\", title)\n",
    "        print(\"Link:\", link)\n",
    "\n",
    "        # Compare with previously stored title/link\n",
    "        # If new, store it and notify\n",
    "    if title in authors[author]:\n",
    "        print(\"No new article.\")\n",
    "    else:\n",
    "        #article_list.clear()\n",
    "        #article_list.append(title)\n",
    "        print(f\"New article added to the list: {title} instead of {authors[author]}\")\n",
    "        authors.update({author:title})\n",
    "        \n",
    "        subject = f\"New article by {author.replace('-',' ').title()}\"\n",
    "        body = f\"{author.replace('-',' ').title()} has published a new article: {title}\\nCheck it out here: ft.com{link}\"\n",
    "        send_email(subject, body)\n",
    "\n",
    "\n"
   ]
  },
  {
   "cell_type": "code",
   "execution_count": 18,
   "metadata": {},
   "outputs": [
    {
     "data": {
      "text/plain": [
       "'Katie Martin'"
      ]
     },
     "execution_count": 18,
     "metadata": {},
     "output_type": "execute_result"
    }
   ],
   "source": [
    "author.replace('-',' ').title()"
   ]
  },
  {
   "cell_type": "code",
   "execution_count": null,
   "metadata": {},
   "outputs": [
    {
     "data": {
      "text/plain": [
       "{'martin-wolf': 'Trump’s tariffs will damage the world',\n",
       " 'stuart-kirk': 'Sir Keir will love me, I’m doubling down on UK equities',\n",
       " 'toby-nangle': 'Bond investors bet that tariffs will inflict deep damage',\n",
       " 'john-burn-murdoch': 'Trump chaos is alienating Republicans',\n",
       " 'katie-martin': 'Markets might not have hit the bottom yet'}"
      ]
     },
     "execution_count": 82,
     "metadata": {},
     "output_type": "execute_result"
    }
   ],
   "source": [
    "authors.update()"
   ]
  },
  {
   "cell_type": "code",
   "execution_count": 68,
   "metadata": {},
   "outputs": [
    {
     "data": {
      "text/plain": [
       "['Trump’s tariffs will damage the world']"
      ]
     },
     "execution_count": 68,
     "metadata": {},
     "output_type": "execute_result"
    }
   ],
   "source": [
    "article_list"
   ]
  },
  {
   "cell_type": "code",
   "execution_count": null,
   "metadata": {},
   "outputs": [
    {
     "ename": "KeyError",
     "evalue": "'GMAIL_SENDER'",
     "output_type": "error",
     "traceback": [
      "\u001b[1;31m---------------------------------------------------------------------------\u001b[0m",
      "\u001b[1;31mKeyError\u001b[0m                                  Traceback (most recent call last)",
      "Cell \u001b[1;32mIn[44], line 2\u001b[0m\n\u001b[0;32m      1\u001b[0m \u001b[38;5;28;01mimport\u001b[39;00m \u001b[38;5;21;01mos\u001b[39;00m \n\u001b[1;32m----> 2\u001b[0m \u001b[43mos\u001b[49m\u001b[38;5;241;43m.\u001b[39;49m\u001b[43menviron\u001b[49m\u001b[43m[\u001b[49m\u001b[38;5;124;43m'\u001b[39;49m\u001b[38;5;124;43mGMAIL_SENDER\u001b[39;49m\u001b[38;5;124;43m'\u001b[39;49m\u001b[43m]\u001b[49m\n",
      "File \u001b[1;32mC:\\Program Files\\WindowsApps\\PythonSoftwareFoundation.Python.3.9_3.9.3568.0_x64__qbz5n2kfra8p0\\lib\\os.py:679\u001b[0m, in \u001b[0;36m_Environ.__getitem__\u001b[1;34m(self, key)\u001b[0m\n\u001b[0;32m    676\u001b[0m     value \u001b[38;5;241m=\u001b[39m \u001b[38;5;28mself\u001b[39m\u001b[38;5;241m.\u001b[39m_data[\u001b[38;5;28mself\u001b[39m\u001b[38;5;241m.\u001b[39mencodekey(key)]\n\u001b[0;32m    677\u001b[0m \u001b[38;5;28;01mexcept\u001b[39;00m \u001b[38;5;167;01mKeyError\u001b[39;00m:\n\u001b[0;32m    678\u001b[0m     \u001b[38;5;66;03m# raise KeyError with the original key value\u001b[39;00m\n\u001b[1;32m--> 679\u001b[0m     \u001b[38;5;28;01mraise\u001b[39;00m \u001b[38;5;167;01mKeyError\u001b[39;00m(key) \u001b[38;5;28;01mfrom\u001b[39;00m \u001b[38;5;28;01mNone\u001b[39;00m\n\u001b[0;32m    680\u001b[0m \u001b[38;5;28;01mreturn\u001b[39;00m \u001b[38;5;28mself\u001b[39m\u001b[38;5;241m.\u001b[39mdecodevalue(value)\n",
      "\u001b[1;31mKeyError\u001b[0m: 'GMAIL_SENDER'"
     ]
    }
   ],
   "source": [
    "await "
   ]
  },
  {
   "cell_type": "code",
   "execution_count": 38,
   "metadata": {},
   "outputs": [
    {
     "data": {
      "text/plain": [
       "['Trump chaos is alienating Republicans']"
      ]
     },
     "execution_count": 38,
     "metadata": {},
     "output_type": "execute_result"
    }
   ],
   "source": [
    "article_list"
   ]
  },
  {
   "cell_type": "code",
   "execution_count": null,
   "metadata": {},
   "outputs": [],
   "source": []
  },
  {
   "cell_type": "code",
   "execution_count": null,
   "metadata": {},
   "outputs": [],
   "source": []
  },
  {
   "cell_type": "code",
   "execution_count": null,
   "metadata": {},
   "outputs": [],
   "source": []
  },
  {
   "cell_type": "code",
   "execution_count": null,
   "metadata": {},
   "outputs": [],
   "source": []
  }
 ],
 "metadata": {
  "kernelspec": {
   "display_name": "Python 3",
   "language": "python",
   "name": "python3"
  },
  "language_info": {
   "codemirror_mode": {
    "name": "ipython",
    "version": 3
   },
   "file_extension": ".py",
   "mimetype": "text/x-python",
   "name": "python",
   "nbconvert_exporter": "python",
   "pygments_lexer": "ipython3",
   "version": "3.9.13"
  }
 },
 "nbformat": 4,
 "nbformat_minor": 2
}
